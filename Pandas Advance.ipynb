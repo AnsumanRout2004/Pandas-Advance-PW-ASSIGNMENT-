{
 "cells": [
  {
   "cell_type": "code",
   "execution_count": null,
   "id": "93f9c2da-6732-4d34-a42b-4dfe81feeb6d",
   "metadata": {},
   "outputs": [],
   "source": [
    "import pandas as pd\n",
    "\n",
    "# Q1: Create a Pandas Series with specific values\n",
    "series_q1 = pd.Series([4, 8, 15, 16, 23, 42])\n",
    "print(\"Q1: Pandas Series\")\n",
    "print(series_q1)\n",
    "\n",
    "\n",
    "# Q4: Explanation of DataFrame vs Series with example\n",
    "print(\"\\nQ4: What is a DataFrame?\")\n",
    "print(\"A DataFrame is a 2D labeled data structure in Pandas, like a table.\")\n",
    "print(\"A Series is a 1D labeled array, similar to a column in a table.\")\n",
    "\n",
    "# Example\n",
    "series_example = pd.Series([10, 20, 30], name=\"Example Series\")\n",
    "df_example = pd.DataFrame({\"Column1\": [10, 20, 30], \"Column2\": [40, 50, 60]})\n",
    "print(\"\\nExample Series:\")\n",
    "print(series_example)\n",
    "print(\"\\nExample DataFrame:\")\n",
    "print(df_example)\n",
    "\n",
    "# Q5: Common functions in Pandas\n",
    "print(\"\\nQ5: Common Pandas Functions\")\n",
    "df = pd.DataFrame({\"A\": [1, 2, 3, 4], \"B\": [10, 20, 30, 40]})\n",
    "print(\"Example DataFrame before applying .mean():\")\n",
    "print(df)\n",
    "print(\"\\nMean of each column:\")\n",
    "print(df.mean())\n",
    "\n",
    "# Q6: Which Pandas objects are mutable?\n",
    "print(\"\\nQ6: Mutability in Pandas\")\n",
    "print(\"Series: Mutable\")\n",
    "print(\"DataFrame: Mutable\")\n",
    "print(\"Panel: Deprecated in latest Pandas versions\")\n",
    "\n",
    "# Q7: Create DataFrame using multiple Series\n",
    "series1 = pd.Series([1, 2, 3, 4], name=\"Column1\")\n",
    "series2 = pd.Series([10, 20, 30, 40], name=\"Column2\")\n",
    "df_q7 = pd.DataFrame({\"Column1\": series1, \"Column2\": series2})\n",
    "print(\"\\nQ7: DataFrame created using multiple Series\")\n",
    "print(df_q7)\n"
   ]
  },
  {
   "cell_type": "code",
   "execution_count": null,
   "id": "7582b5c3-be2a-4379-b92f-ddabf4986444",
   "metadata": {},
   "outputs": [],
   "source": []
  },
  {
   "cell_type": "code",
   "execution_count": null,
   "id": "d4da9475-d77f-4525-8d2f-44b99492d08b",
   "metadata": {},
   "outputs": [],
   "source": []
  },
  {
   "cell_type": "code",
   "execution_count": null,
   "id": "e7632d6e-8f20-4a1b-9d6d-14c86f5f601e",
   "metadata": {},
   "outputs": [],
   "source": []
  },
  {
   "cell_type": "code",
   "execution_count": null,
   "id": "b8035bcf-229b-46d5-aaaf-43c57fe12c87",
   "metadata": {},
   "outputs": [],
   "source": []
  },
  {
   "cell_type": "code",
   "execution_count": null,
   "id": "ddf04dba-8b5d-4836-969a-d1e1661aa141",
   "metadata": {},
   "outputs": [],
   "source": []
  },
  {
   "cell_type": "code",
   "execution_count": null,
   "id": "a58c5e62-4de9-4763-84ad-7b4d57f6d720",
   "metadata": {},
   "outputs": [],
   "source": []
  },
  {
   "cell_type": "code",
   "execution_count": null,
   "id": "510b87c2-fd42-4d2d-9fac-3fd00556d30d",
   "metadata": {},
   "outputs": [],
   "source": []
  },
  {
   "cell_type": "code",
   "execution_count": null,
   "id": "66daf4b2-46a0-4622-9904-1ee77f569733",
   "metadata": {},
   "outputs": [],
   "source": []
  },
  {
   "cell_type": "code",
   "execution_count": null,
   "id": "0185b826-4401-429c-bfaa-786c880a99ff",
   "metadata": {},
   "outputs": [],
   "source": []
  },
  {
   "cell_type": "code",
   "execution_count": null,
   "id": "06bacf7c-3b93-471b-9b3e-b5afa033e5fd",
   "metadata": {},
   "outputs": [],
   "source": []
  }
 ],
 "metadata": {
  "kernelspec": {
   "display_name": "Python [conda env:base] *",
   "language": "python",
   "name": "conda-base-py"
  },
  "language_info": {
   "codemirror_mode": {
    "name": "ipython",
    "version": 3
   },
   "file_extension": ".py",
   "mimetype": "text/x-python",
   "name": "python",
   "nbconvert_exporter": "python",
   "pygments_lexer": "ipython3",
   "version": "3.11.7"
  }
 },
 "nbformat": 4,
 "nbformat_minor": 5
}
